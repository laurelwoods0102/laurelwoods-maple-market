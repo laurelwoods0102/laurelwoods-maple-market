{
 "metadata": {
  "language_info": {
   "codemirror_mode": {
    "name": "ipython",
    "version": 3
   },
   "file_extension": ".py",
   "mimetype": "text/x-python",
   "name": "python",
   "nbconvert_exporter": "python",
   "pygments_lexer": "ipython3",
   "version": "3.7.6-final"
  },
  "orig_nbformat": 2,
  "kernelspec": {
   "name": "Python 3.7.6 64-bit ('base': conda)",
   "display_name": "Python 3.7.6 64-bit ('base': conda)",
   "metadata": {
    "interpreter": {
     "hash": "b3ba2566441a7c06988d0923437866b63cedc61552a5af99d1f4fb67d367b25f"
    }
   }
  }
 },
 "nbformat": 4,
 "nbformat_minor": 2,
 "cells": [
  {
   "cell_type": "code",
   "execution_count": 57,
   "metadata": {},
   "outputs": [],
   "source": [
    "import numpy as np\n",
    "import pandas as pd\n",
    "import requests\n",
    "from bs4 import BeautifulSoup\n",
    "from matplotlib import pyplot as plt\n",
    "from PIL import Image\n",
    "import io\n",
    "import datetime\n",
    "import json\n",
    "import re\n",
    "\n",
    "headers = {'User-Agent':'Mozilla/5.0 (Windows NT 6.3; Win64; x64) AppleWebKit/537.36 (KHTML, like Gecko) Chrome/63.0.3239.132 Safari/537.36'}"
   ]
  },
  {
   "cell_type": "code",
   "execution_count": 37,
   "metadata": {},
   "outputs": [
    {
     "output_type": "execute_result",
     "data": {
      "text/plain": [
       "['스카니아', '루나', '엘리시움', '크로아']"
      ]
     },
     "metadata": {},
     "execution_count": 37
    }
   ],
   "source": [
    "with open(\"config/servers.json\", \"r\", encoding=\"utf-8\") as j:\n",
    "    servers = json.load(j)\n",
    "servers"
   ]
  },
  {
   "cell_type": "code",
   "execution_count": 38,
   "metadata": {},
   "outputs": [
    {
     "output_type": "execute_result",
     "data": {
      "text/plain": [
       "['weapon', 'armor']"
      ]
     },
     "metadata": {},
     "execution_count": 38
    }
   ],
   "source": [
    "with open(\"config/item_types.json\", \"r\", encoding=\"utf-8\") as j:\n",
    "    item_types = json.load(j)\n",
    "item_types"
   ]
  },
  {
   "cell_type": "code",
   "execution_count": 39,
   "metadata": {},
   "outputs": [
    {
     "output_type": "execute_result",
     "data": {
      "text/plain": [
       "'골든 클로버 벨트'"
      ]
     },
     "metadata": {},
     "execution_count": 39
    }
   ],
   "source": [
    "with open(\"config/item_names.json\", \"r\", encoding=\"utf-8\") as j:\n",
    "    item_names = json.load(j)\n",
    "item_names[\"armor\"][0]"
   ]
  },
  {
   "cell_type": "code",
   "execution_count": 40,
   "metadata": {},
   "outputs": [
    {
     "output_type": "execute_result",
     "data": {
      "text/plain": [
       "('아쿠아틱 레터 눈장식', '크로아')"
      ]
     },
     "metadata": {},
     "execution_count": 40
    }
   ],
   "source": [
    "server = servers[3]\n",
    "item_type = item_types[1]\n",
    "item_name = names[item_type][54]\n",
    "item_name, server"
   ]
  },
  {
   "cell_type": "code",
   "execution_count": 4,
   "metadata": {},
   "outputs": [
    {
     "output_type": "execute_result",
     "data": {
      "text/plain": [
       "'20201018-021238'"
      ]
     },
     "metadata": {},
     "execution_count": 4
    }
   ],
   "source": [
    "timestamp = datetime.datetime.now().strftime(\"%Y%m%d-%H%M%S\")\n",
    "timestamp"
   ]
  },
  {
   "cell_type": "code",
   "execution_count": 25,
   "metadata": {},
   "outputs": [],
   "source": [
    "database_dir = \"data/\" + item_name + \"/\" + server\n",
    "\n",
    "os.makedirs(database_dir)\n",
    "os.makedirs(database_dir + \"/images\")\n",
    "os.makedirs(database_dir + \"/data\")"
   ]
  },
  {
   "cell_type": "code",
   "execution_count": 41,
   "metadata": {},
   "outputs": [],
   "source": [
    "# additional_option == 추옵 (무기류)\n",
    "if item_type == \"weapon\":\n",
    "    is_additional_option = True\n",
    "else:\n",
    "    is_additional_option = False"
   ]
  },
  {
   "cell_type": "code",
   "execution_count": 42,
   "metadata": {},
   "outputs": [
    {
     "output_type": "execute_result",
     "data": {
      "text/plain": [
       "'https://maple.market/items/아쿠아틱레터눈장식/크로아'"
      ]
     },
     "metadata": {},
     "execution_count": 42
    }
   ],
   "source": [
    "url = \"https://maple.market/items/{}/{}\".format(item_name.replace(\" \", \"\"), server)\n",
    "url"
   ]
  },
  {
   "cell_type": "code",
   "execution_count": 43,
   "metadata": {},
   "outputs": [],
   "source": [
    "req = requests.get(url, headers=headers)\n",
    "html = req.text"
   ]
  },
  {
   "cell_type": "code",
   "execution_count": 50,
   "metadata": {},
   "outputs": [],
   "source": [
    "soup = BeautifulSoup(html, 'lxml')\n",
    "div = soup.find(id=\"auction-list\")\n",
    "table = div.find('table')\n",
    "table_head = table.select('thead')[0]\n",
    "table_body = table.select('tbody')[0]\n",
    "items = table_body.find_all(\"tr\")"
   ]
  },
  {
   "cell_type": "code",
   "execution_count": 52,
   "metadata": {
    "tags": []
   },
   "outputs": [
    {
     "output_type": "execute_result",
     "data": {
      "text/plain": [
       "['price', 'option', 'additional', 'star_force', 'upgrade', 'time_remained']"
      ]
     },
     "metadata": {},
     "execution_count": 52
    }
   ],
   "source": [
    "columns = [\"price\", \"option\", \"additional\", \"star_force\", \"upgrade\", \"time_remained\"]\n",
    "columns"
   ]
  },
  {
   "cell_type": "code",
   "execution_count": 53,
   "metadata": {},
   "outputs": [],
   "source": [
    "def item_parser(item, is_additional_option=False):      \n",
    "    # additional_option == 추옵 (무기류)\n",
    "    if is_additional_option:\n",
    "        mapping = [1, 3, 4, 5, 7]\n",
    "    else:\n",
    "        mapping = [1, 2, 3, 4, 6]\n",
    "\n",
    "    data = []\n",
    "    item_contents = item.find_all(\"td\")\n",
    "    \n",
    "    #num = int(item_contents[0].text.strip().replace('\\n',''))\n",
    "    #item_name = item_contents[1].select(\"span\")[0].text.strip()\n",
    "\n",
    "    # 1, 2\n",
    "    item_name_span = item_contents[mapping[0]].select(\"span\")[0]\n",
    "    star_force = 0\n",
    "    upgrade = 0\n",
    "    item_name_raw = item_name_span.text.strip()\n",
    "\n",
    "    if item_name_span.find(\"div\") != None:\n",
    "        star_force = int(item_name_raw[-1])\n",
    "        item_name_raw = item_name_raw[:-1].strip()\n",
    "\n",
    "    m = re.compile(\"\\+(\\d*)\")\n",
    "\n",
    "    if m.search(item_name_raw) != None:\n",
    "        upgrade = int(m.search(item_name_raw).group(1))\n",
    "\n",
    "    # 3\n",
    "    option = item_contents[mapping[1]].text.strip()\n",
    "\n",
    "    # 4\n",
    "    additional = item_contents[mapping[2]].text.strip()\n",
    "\n",
    "    # 5 \n",
    "    price = int(item_contents[mapping[3]].text.strip().split(\"\\n\")[0].replace(',',''))\n",
    "\n",
    "    # 6\n",
    "    time_remained = item_contents[mapping[4]].text.strip()\n",
    "\n",
    "    data.append(price)\n",
    "    data.append(option)\n",
    "    data.append(additional)\n",
    "    data.append(star_force)\n",
    "    data.append(upgrade)\n",
    "    data.append(time_remained)\n",
    "\n",
    "    return data"
   ]
  },
  {
   "cell_type": "code",
   "execution_count": 54,
   "metadata": {},
   "outputs": [],
   "source": [
    "def item_image_parser(item):\n",
    "    item_image_url = item.find_all(\"td\")[1].select(\"div\")[0].attrs[\"data-tooltip-image-url\"]\n",
    "    item_image_content = requests.get(item_image_url, headers=headers)\n",
    "    assert(item_image_content.status_code == 200)\n",
    "\n",
    "    stream = io.BytesIO(item_image_content.content)\n",
    "    item_image = Image.open(stream)\n",
    "\n",
    "    return item_image"
   ]
  },
  {
   "cell_type": "code",
   "execution_count": 56,
   "metadata": {
    "tags": []
   },
   "outputs": [
    {
     "output_type": "stream",
     "name": "stdout",
     "text": [
      "0\n1\n2\n3\n4\n5\n6\n7\n8\n9\n10\n11\n12\n13\n14\n15\n16\n17\n18\n19\n20\n21\n22\n23\n24\n25\n26\n27\n28\n29\n30\n31\n32\n33\n34\n35\n36\n37\n38\n39\n40\n41\n42\n43\n44\n45\n46\n47\n48\n49\n50\n51\n52\n53\n54\n55\n56\n57\n58\n59\n60\n61\n62\n63\n64\n65\n66\n67\n68\n69\n70\n71\n72\n73\n74\n75\n76\n77\n78\n79\n80\n81\n82\n83\n84\n85\n86\n87\n88\n89\n90\n91\n92\n93\n94\n95\n96\n97\n98\n99\n100\n101\n102\n103\n104\n105\n106\n107\n108\n109\n110\n111\n112\n113\n114\n115\n116\n117\n118\n119\n120\n121\n122\n123\n124\n125\n126\n127\n128\n129\n130\n131\n132\n133\n134\n135\n136\n137\n138\n139\n140\n141\n142\n143\n144\n145\n146\n147\n148\n149\n150\n151\n152\n153\n154\n155\n156\n157\n158\n159\n160\n161\n162\n163\n164\n165\n166\n167\n168\n169\n170\n171\n172\n173\n174\n175\n176\n177\n178\n179\n180\n181\n182\n183\n184\n185\n186\n187\n188\n189\n190\n191\n192\n193\n194\n195\n196\n197\n198\n199\n200\n201\n202\n203\n204\n205\n206\n207\n208\n209\n210\n211\n212\n213\n214\n215\n216\n217\n218\n219\n220\n221\n222\n223\n224\n225\n226\n227\n228\n229\n230\n231\n232\n233\n234\n235\n236\n237\n238\n239\n240\n241\n242\n243\n244\n245\n246\n247\n248\n249\n250\n251\n252\n253\n254\n255\n256\n257\n258\n259\n260\n261\n262\n263\n264\n265\n266\n267\n268\n269\n270\n271\n272\n273\n274\n275\n276\n277\n278\n279\n280\n281\n282\n283\n284\n285\n286\n287\n288\n289\n290\n291\n292\n293\n294\n295\n296\n297\n298\n299\n300\n301\n302\n303\n304\n305\n306\n307\n308\n309\n310\n311\n312\n313\n314\n315\n316\n317\n318\n319\n320\n321\n322\n323\n324\n325\n326\n327\n328\n329\n330\n331\n332\n333\n334\n335\n336\n337\n338\n339\n340\n341\n342\n343\n344\n345\n346\n347\n348\n349\n350\n351\n352\n353\n354\n355\n356\n357\n358\n359\n360\n361\n362\n363\n364\n365\n366\n367\n368\n369\n370\n371\n372\n373\n374\n375\n376\n377\n378\n379\n380\n381\n382\n383\n384\n385\n386\n387\n388\n389\n390\n391\n392\n393\n394\n395\n396\n397\n398\n399\n400\n401\n402\n403\n404\n405\n406\n407\n408\n409\n410\n411\n412\n413\n414\n415\n416\n417\n418\n419\n420\n421\n422\n423\n424\n425\n426\n427\n428\n429\n430\n431\n432\n433\n434\n435\n436\n437\n438\n439\n440\n441\n442\n443\n444\n445\n446\n447\n448\n449\n450\n451\n452\n453\n454\n455\n456\n457\n458\n459\n460\n461\n462\n463\n464\n465\n466\n467\n468\n469\n470\n471\n472\n473\n474\n475\n476\n477\n478\n479\n480\n481\n482\n483\n484\n485\n486\n487\n488\n489\n490\n491\n492\n493\n494\n495\n496\n497\n498\n499\n500\n501\n502\n503\n504\n505\n506\n507\n508\n509\n510\n511\n512\n513\n514\n515\n516\n517\n518\n519\n520\n521\n522\n523\n524\n525\n526\n527\n528\n529\n530\n531\n532\n533\n534\n535\n536\n537\n538\n539\n540\n541\n542\n543\n544\n545\n546\n547\n548\n549\n550\n551\n552\n553\n554\n555\n556\n557\n558\n559\n560\n561\n562\n563\n564\n565\n566\n567\n568\n569\n570\n571\n572\n573\n574\n575\n576\n577\n578\n579\n580\n581\n582\n583\n584\n585\n586\n587\n588\n589\n590\n591\n592\n593\n594\n595\n596\n597\n598\n599\n600\n601\n602\n603\n604\n605\n606\n607\n608\n609\n610\n611\n612\n613\n614\n615\n616\n617\n618\n619\n620\n621\n622\n623\n624\n625\n626\n627\n628\n629\n630\n631\n632\n633\n634\n635\n636\n637\n638\n639\n640\n641\n642\n643\n644\n645\n646\n647\n648\n649\n650\n651\n652\n653\n654\n655\n656\n657\n658\n659\n660\n661\n662\n663\n664\n665\n666\n667\n668\n669\n670\n671\n672\n673\n674\n675\n676\n677\n678\n679\n680\n681\n682\n683\n684\n685\n686\n687\n688\n689\n690\n691\n692\n693\n694\n695\n696\n697\n698\n699\n"
     ]
    }
   ],
   "source": [
    "current_data = []\n",
    "current_images = []\n",
    "\n",
    "for i, item in enumerate(items):\n",
    "    d = item_parser(item, is_additional_option=is_additional_option)\n",
    "    current_data.append(d)\n",
    "    #img = item_image_parser(item)\n",
    "    #current_images.append(img)\n",
    "    print(i)\n",
    "\n",
    "#assert(len(current_data) == len(current_images))"
   ]
  },
  {
   "cell_type": "code",
   "execution_count": 846,
   "metadata": {},
   "outputs": [
    {
     "output_type": "execute_result",
     "data": {
      "text/plain": "           price option additional  star_force  upgrade time_remained\n0       99999999      -          -           0        0      22시간 30분\n1       99999999      -          -           0        0      22시간 57분\n2      109999998      -          -           0        0      20시간 50분\n3      109999999      -          -           0        0      13시간 52분\n4      110000000      -          -           0        0      05시간 29분\n..           ...    ...        ...         ...      ...           ...\n179  13999999999     레전         레전           2        9      23시간 28분\n180  14999999999     레전         유닉           2        9      14시간 50분\n181  19999999999     레전         레전           2        9      04시간 51분\n182  20299999999     레전         유닉           2        9      05시간 40분\n183  22222222222     레전         레전           2        9      12시간 14분\n\n[184 rows x 6 columns]",
      "text/html": "<div>\n<style scoped>\n    .dataframe tbody tr th:only-of-type {\n        vertical-align: middle;\n    }\n\n    .dataframe tbody tr th {\n        vertical-align: top;\n    }\n\n    .dataframe thead th {\n        text-align: right;\n    }\n</style>\n<table border=\"1\" class=\"dataframe\">\n  <thead>\n    <tr style=\"text-align: right;\">\n      <th></th>\n      <th>price</th>\n      <th>option</th>\n      <th>additional</th>\n      <th>star_force</th>\n      <th>upgrade</th>\n      <th>time_remained</th>\n    </tr>\n  </thead>\n  <tbody>\n    <tr>\n      <th>0</th>\n      <td>99999999</td>\n      <td>-</td>\n      <td>-</td>\n      <td>0</td>\n      <td>0</td>\n      <td>22시간 30분</td>\n    </tr>\n    <tr>\n      <th>1</th>\n      <td>99999999</td>\n      <td>-</td>\n      <td>-</td>\n      <td>0</td>\n      <td>0</td>\n      <td>22시간 57분</td>\n    </tr>\n    <tr>\n      <th>2</th>\n      <td>109999998</td>\n      <td>-</td>\n      <td>-</td>\n      <td>0</td>\n      <td>0</td>\n      <td>20시간 50분</td>\n    </tr>\n    <tr>\n      <th>3</th>\n      <td>109999999</td>\n      <td>-</td>\n      <td>-</td>\n      <td>0</td>\n      <td>0</td>\n      <td>13시간 52분</td>\n    </tr>\n    <tr>\n      <th>4</th>\n      <td>110000000</td>\n      <td>-</td>\n      <td>-</td>\n      <td>0</td>\n      <td>0</td>\n      <td>05시간 29분</td>\n    </tr>\n    <tr>\n      <th>...</th>\n      <td>...</td>\n      <td>...</td>\n      <td>...</td>\n      <td>...</td>\n      <td>...</td>\n      <td>...</td>\n    </tr>\n    <tr>\n      <th>179</th>\n      <td>13999999999</td>\n      <td>레전</td>\n      <td>레전</td>\n      <td>2</td>\n      <td>9</td>\n      <td>23시간 28분</td>\n    </tr>\n    <tr>\n      <th>180</th>\n      <td>14999999999</td>\n      <td>레전</td>\n      <td>유닉</td>\n      <td>2</td>\n      <td>9</td>\n      <td>14시간 50분</td>\n    </tr>\n    <tr>\n      <th>181</th>\n      <td>19999999999</td>\n      <td>레전</td>\n      <td>레전</td>\n      <td>2</td>\n      <td>9</td>\n      <td>04시간 51분</td>\n    </tr>\n    <tr>\n      <th>182</th>\n      <td>20299999999</td>\n      <td>레전</td>\n      <td>유닉</td>\n      <td>2</td>\n      <td>9</td>\n      <td>05시간 40분</td>\n    </tr>\n    <tr>\n      <th>183</th>\n      <td>22222222222</td>\n      <td>레전</td>\n      <td>레전</td>\n      <td>2</td>\n      <td>9</td>\n      <td>12시간 14분</td>\n    </tr>\n  </tbody>\n</table>\n<p>184 rows × 6 columns</p>\n</div>"
     },
     "metadata": {},
     "execution_count": 846
    }
   ],
   "source": [
    "current_df = pd.DataFrame(current_data, columns=columns, index=None)\n",
    "current_df"
   ]
  },
  {
   "cell_type": "code",
   "execution_count": 847,
   "metadata": {},
   "outputs": [],
   "source": [
    "current_df.to_csv(\"{}/{}_current.csv\".format(dataset_dir, dataset_name), index=None, encoding='utf-8')"
   ]
  },
  {
   "cell_type": "code",
   "execution_count": 848,
   "metadata": {},
   "outputs": [],
   "source": [
    "for i, img in enumerate(current_images):\n",
    "    img.save(\"{}/images/{}.png\".format(dataset_dir, i))"
   ]
  },
  {
   "cell_type": "code",
   "execution_count": null,
   "metadata": {},
   "outputs": [],
   "source": []
  }
 ]
}