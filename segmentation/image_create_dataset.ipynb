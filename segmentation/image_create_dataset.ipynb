{
 "metadata": {
  "language_info": {
   "codemirror_mode": {
    "name": "ipython",
    "version": 3
   },
   "file_extension": ".py",
   "mimetype": "text/x-python",
   "name": "python",
   "nbconvert_exporter": "python",
   "pygments_lexer": "ipython3",
   "version": "3.7.6-final"
  },
  "orig_nbformat": 2,
  "kernelspec": {
   "name": "Python 3.7.6 64-bit ('base': conda)",
   "display_name": "Python 3.7.6 64-bit ('base': conda)",
   "metadata": {
    "interpreter": {
     "hash": "b3ba2566441a7c06988d0923437866b63cedc61552a5af99d1f4fb67d367b25f"
    }
   }
  }
 },
 "nbformat": 4,
 "nbformat_minor": 2,
 "cells": [
  {
   "cell_type": "code",
   "execution_count": 1,
   "metadata": {},
   "outputs": [],
   "source": [
    "import numpy as np\n",
    "import pandas as pd\n",
    "import matplotlib\n",
    "import matplotlib.pyplot as plt\n",
    "import cv2\n",
    "import PIL\n",
    "from PIL import Image\n",
    "import os\n",
    "import shutil\n",
    "import json\n",
    "import io"
   ]
  },
  {
   "cell_type": "code",
   "execution_count": 2,
   "metadata": {},
   "outputs": [],
   "source": [
    "dataset_name = \"dataset_3\""
   ]
  },
  {
   "cell_type": "code",
   "execution_count": 3,
   "metadata": {},
   "outputs": [],
   "source": [
    "with open(\"data/{}/labeled_images/{}.json\".format(dataset_name, 183), \"r\") as j:\n",
    "    label = json.load(j)"
   ]
  },
  {
   "cell_type": "code",
   "execution_count": 4,
   "metadata": {},
   "outputs": [
    {
     "output_type": "execute_result",
     "data": {
      "text/plain": "[{&#39;label&#39;: &#39;class_0&#39;,\n  &#39;points&#39;: [[7.773584905660357, 236.32075471698113],\n   [221.92452830188677, 434.90566037735846]],\n  &#39;group_id&#39;: None,\n  &#39;shape_type&#39;: &#39;rectangle&#39;,\n  &#39;flags&#39;: {}},\n {&#39;label&#39;: &#39;class_1&#39;,\n  &#39;points&#39;: [[8.245283018867923, 449.5283018867924],\n   [185.1320754716981, 509.90566037735846]],\n  &#39;group_id&#39;: None,\n  &#39;shape_type&#39;: &#39;rectangle&#39;,\n  &#39;flags&#39;: {}},\n {&#39;label&#39;: &#39;class_2&#39;,\n  &#39;points&#39;: [[8.245283018867923, 525.9433962264151],\n   [113.90566037735846, 586.7924528301886]],\n  &#39;group_id&#39;: None,\n  &#39;shape_type&#39;: &#39;rectangle&#39;,\n  &#39;flags&#39;: {}},\n {&#39;label&#39;: &#39;class_3&#39;,\n  &#39;points&#39;: [[7.78125, 601.5625], [207.0, 660.546875]],\n  &#39;group_id&#39;: None,\n  &#39;shape_type&#39;: &#39;rectangle&#39;,\n  &#39;flags&#39;: {}}]"
     },
     "metadata": {},
     "execution_count": 4
    }
   ],
   "source": [
    "label[\"shapes\"]"
   ]
  },
  {
   "cell_type": "code",
   "execution_count": 5,
   "metadata": {},
   "outputs": [
    {
     "output_type": "execute_result",
     "data": {
      "text/plain": "((7, 236), (221, 434))"
     },
     "metadata": {},
     "execution_count": 5
    }
   ],
   "source": [
    "point_start = (int(label[\"shapes\"][0][\"points\"][0][0]), int(label[\"shapes\"][0][\"points\"][0][1]))\n",
    "point_end = (int(label[\"shapes\"][0][\"points\"][1][0]), int(label[\"shapes\"][0][\"points\"][1][1]))\n",
    "point_start, point_end"
   ]
  },
  {
   "source": [
    "img = cv2.imread(\"data/{}/labeled_images/{}.png\".format(dataset_name, 183), cv2.IMREAD_COLOR)\n",
    "#img_rec = cv2.rectangle(img, point_start, point_end, (0, 0, 255), 3)"
   ],
   "cell_type": "code",
   "metadata": {},
   "execution_count": 10,
   "outputs": []
  },
  {
   "cell_type": "code",
   "execution_count": 7,
   "metadata": {},
   "outputs": [
    {
     "output_type": "execute_result",
     "data": {
      "text/plain": "-1"
     },
     "metadata": {},
     "execution_count": 7
    }
   ],
   "source": [
    "cv2.imshow(\"img_rec\", img_rec)\n",
    "cv2.waitKey()"
   ]
  },
  {
   "cell_type": "code",
   "execution_count": 49,
   "metadata": {},
   "outputs": [],
   "source": [
    "image_slice = [\n",
    "    {   #0\n",
    "        \"x\": [10, 144],\n",
    "        \"y\": [239, 252]\n",
    "    },\n",
    "    {   #1\n",
    "        \"x\": [10, 133],\n",
    "        \"y\": [267, 280]\n",
    "    },\n",
    "    {   #3\n",
    "        \"x\": [10, 152],\n",
    "        \"y\": [280, 294]\n",
    "    },\n",
    "    {   #4\n",
    "        \"x\": [10, 142],\n",
    "        \"y\": [309, 323]\n",
    "    },\n",
    "    {   #5\n",
    "        \"x\": [10, 143],\n",
    "        \"y\": [323, 337]\n",
    "    },\n",
    "    {   #6\n",
    "        \"x\": [10, 175],\n",
    "        \"y\": [337, 352]\n",
    "    },\n",
    "    {   #7\n",
    "        \"x\": [10, 250],\n",
    "        \"y\": [365, 378]\n",
    "    },\n",
    "    {   #8\n",
    "        \"x\": [10, 223],\n",
    "        \"y\": [393, 407]\n",
    "    }\n",
    "]"
   ]
  },
  {
   "cell_type": "code",
   "execution_count": 50,
   "metadata": {},
   "outputs": [],
   "source": [
    "for i, pts in enumerate(image_slice):\n",
    "    img = cv2.imread(\"data/{}/labeled_images/{}.png\".format(dataset_name, 183), cv2.IMREAD_COLOR)\n",
    "    img_spec_enlarged = cv2.resize(img[pts[\"y\"][0]:pts[\"y\"][1], pts[\"x\"][0]:pts[\"x\"][1]], (0, 0), fx=1.5, fy=1.5, interpolation=cv2.INTER_LINEAR)\n",
    "    img_spec_enlarged_border = cv2.copyMakeBorder(img_spec_enlarged, 25, 25, 25, 25, cv2.BORDER_CONSTANT, value=(0, 0, 0))\n",
    "    cv2.imwrite(\"data/ex/{}.png\".format(i), img_spec_enlarged_border)"
   ]
  },
  {
   "cell_type": "code",
   "execution_count": 30,
   "metadata": {},
   "outputs": [
    {
     "output_type": "execute_result",
     "data": {
      "text/plain": "-1"
     },
     "metadata": {},
     "execution_count": 30
    }
   ],
   "source": [
    "img_spec_enlarged = cv2.resize(img[239:252, 10:144], (0, 0), fx=1.5, fy=1.5, interpolation=cv2.INTER_LINEAR)\n",
    "spec_enlarged_border = cv2.copyMakeBorder(img_spec_enlarged, 25, 25, 25, 25, cv2.BORDER_CONSTANT, value=(0, 0, 0))"
   ]
  },
  {
   "cell_type": "code",
   "execution_count": 31,
   "metadata": {},
   "outputs": [
    {
     "output_type": "execute_result",
     "data": {
      "text/plain": "True"
     },
     "metadata": {},
     "execution_count": 31
    }
   ],
   "source": [
    "cv2.imwrite(\"ex_spec_enlarged_border.png\", ex_spec_enlarged_border)"
   ]
  },
  {
   "cell_type": "code",
   "execution_count": null,
   "metadata": {},
   "outputs": [],
   "source": [
    "cv2.imshow(\"ex_spec_enlarged_border\", spec_enlarged_border)\n",
    "cv2.waitKey()"
   ]
  },
  {
   "cell_type": "code",
   "execution_count": null,
   "metadata": {},
   "outputs": [],
   "source": []
  }
 ]
}