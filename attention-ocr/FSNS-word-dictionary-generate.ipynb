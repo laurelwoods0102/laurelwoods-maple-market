{
 "metadata": {
  "language_info": {
   "codemirror_mode": {
    "name": "ipython",
    "version": 3
   },
   "file_extension": ".py",
   "mimetype": "text/x-python",
   "name": "python",
   "nbconvert_exporter": "python",
   "pygments_lexer": "ipython3",
   "version": "3.7.6-final"
  },
  "orig_nbformat": 2,
  "kernelspec": {
   "name": "Python 3.7.6 64-bit ('base': conda)",
   "display_name": "Python 3.7.6 64-bit ('base': conda)",
   "metadata": {
    "interpreter": {
     "hash": "b3ba2566441a7c06988d0923437866b63cedc61552a5af99d1f4fb67d367b25f"
    }
   }
  }
 },
 "nbformat": 4,
 "nbformat_minor": 2,
 "cells": [
  {
   "cell_type": "code",
   "execution_count": 1,
   "metadata": {},
   "outputs": [],
   "source": [
    "import glob"
   ]
  },
  {
   "source": [
    "with open(\"data/ks완성형 한글모음.txt\", \"r\", encoding='utf-8') as t:\n",
    "    raw = t.read()"
   ],
   "cell_type": "markdown",
   "metadata": {
    "tags": []
   }
  },
  {
   "source": [
    "raw"
   ],
   "cell_type": "markdown",
   "metadata": {}
  },
  {
   "source": [
    "raw = raw.replace(\"\\n\", \"\").replace(\"\\t\", \"\").replace(\" \", \"\")\n",
    "raw = list(raw)"
   ],
   "cell_type": "markdown",
   "metadata": {}
  },
  {
   "source": [
    "additional_text = \"1234567890ABCDEFGHIJKLNMOPQRSTUVWXYZabcdefghijklnmopqrstuvwxyz()+%-*<>[],./-_=:\"\n",
    "add_text = list(additional_text)"
   ],
   "cell_type": "markdown",
   "metadata": {}
  },
  {
   "source": [
    "raw.extend(add_text)\n",
    "with open(\"dic.txt\", \"w\", encoding=\"utf-8\") as d:\n",
    "    for i, data in enumerate(raw):\n",
    "        d.write(str(i))\n",
    "        d.write(\"\\t\")\n",
    "        d.write(data)\n",
    "        d.write(\"\\n\")"
   ],
   "cell_type": "markdown",
   "metadata": {}
  },
  {
   "cell_type": "code",
   "execution_count": 5,
   "metadata": {},
   "outputs": [],
   "source": [
    "addrs_labels_1 = glob.glob('data/dataset_1/labels/*.txt')\n",
    "addrs_labels_2 = glob.glob('data/dataset_2/labels/*.txt')\n",
    "addrs_labels_3 = glob.glob('data/dataset_3/labels/*.txt')"
   ]
  },
  {
   "cell_type": "code",
   "execution_count": 9,
   "metadata": {},
   "outputs": [
    {
     "output_type": "execute_result",
     "data": {
      "text/plain": "&#39;장비분류 : 눈장식\\nSTR : +24 (6 +18)\\nDEX : +33 (6 +27)\\nINT : +24 (6 +18)\\nLUK : +33 (6 +27)\\n공격력 : +1\\n마력 : +1\\n방어력 : +100\\n업그레이드 가능 횟수: 3 (복구 가능 횟수: 0)&#39;"
     },
     "metadata": {},
     "execution_count": 9
    }
   ],
   "source": [
    "text = open(addrs_labels_1[0], encoding=\"utf-8-sig\").read()\n",
    "text"
   ]
  },
  {
   "cell_type": "code",
   "execution_count": 19,
   "metadata": {},
   "outputs": [],
   "source": [
    "word_bag = set()\n",
    "for i in range(1, 3):\n",
    "    for label in glob.glob('data/dataset_{}/labels/*.txt'.format(i)):\n",
    "        text = open(label, encoding=\"utf-8-sig\").read()\n",
    "        for t in text:\n",
    "            word_bag.add(t)"
   ]
  },
  {
   "cell_type": "code",
   "execution_count": 20,
   "metadata": {},
   "outputs": [
    {
     "output_type": "execute_result",
     "data": {
      "text/plain": "{&#39;\\n&#39;,\n &#39; &#39;,\n &#39;%&#39;,\n &#39;(&#39;,\n &#39;)&#39;,\n &#39;+&#39;,\n &#39;-&#39;,\n &#39;0&#39;,\n &#39;1&#39;,\n &#39;2&#39;,\n &#39;3&#39;,\n &#39;4&#39;,\n &#39;5&#39;,\n &#39;6&#39;,\n &#39;7&#39;,\n &#39;8&#39;,\n &#39;9&#39;,\n &#39;:&#39;,\n &#39;D&#39;,\n &#39;E&#39;,\n &#39;H&#39;,\n &#39;I&#39;,\n &#39;K&#39;,\n &#39;L&#39;,\n &#39;M&#39;,\n &#39;N&#39;,\n &#39;P&#39;,\n &#39;R&#39;,\n &#39;S&#39;,\n &#39;T&#39;,\n &#39;U&#39;,\n &#39;X&#39;,\n &#39;가&#39;,\n &#39;감&#39;,\n &#39;격&#39;,\n &#39;공&#39;,\n &#39;구&#39;,\n &#39;그&#39;,\n &#39;금&#39;,\n &#39;눈&#39;,\n &#39;능&#39;,\n &#39;대&#39;,\n &#39;도&#39;,\n &#39;동&#39;,\n &#39;드&#39;,\n &#39;레&#39;,\n &#39;력&#39;,\n &#39;련&#39;,\n &#39;류&#39;,\n &#39;름&#39;,\n &#39;마&#39;,\n &#39;망&#39;,\n &#39;매&#39;,\n &#39;방&#39;,\n &#39;벨&#39;,\n &#39;복&#39;,\n &#39;분&#39;,\n &#39;블&#39;,\n &#39;비&#39;,\n &#39;빠&#39;,\n &#39;소&#39;,\n &#39;속&#39;,\n &#39;수&#39;,\n &#39;스&#39;,\n &#39;식&#39;,\n &#39;어&#39;,\n &#39;업&#39;,\n &#39;올&#39;,\n &#39;용&#39;,\n &#39;우&#39;,\n &#39;이&#39;,\n &#39;장&#39;,\n &#39;적&#39;,\n &#39;점&#39;,\n &#39;제&#39;,\n &#39;착&#39;,\n &#39;최&#39;,\n &#39;치&#39;,\n &#39;텟&#39;,\n &#39;프&#39;,\n &#39;한&#39;,\n &#39;황&#39;,\n &#39;횟&#39;}"
     },
     "metadata": {},
     "execution_count": 20
    }
   ],
   "source": [
    "word_bag"
   ]
  },
  {
   "cell_type": "code",
   "execution_count": 22,
   "metadata": {},
   "outputs": [
    {
     "output_type": "execute_result",
     "data": {
      "text/plain": "83"
     },
     "metadata": {},
     "execution_count": 22
    }
   ],
   "source": [
    "len(word_bag)"
   ]
  },
  {
   "cell_type": "code",
   "execution_count": 62,
   "metadata": {},
   "outputs": [],
   "source": [
    "with open(\"word_bag_2.txt\", \"w\", encoding=\"utf-8\") as d:\n",
    "    for i, data in enumerate(sorted(list(word_bag))[2:]):   # Skip oob> / newline / whitespace and add later\n",
    "        d.write(str(i+3))\n",
    "        d.write(\"\\t\")\n",
    "        d.write(data)\n",
    "        d.write(\"\\n\")"
   ]
  },
  {
   "cell_type": "code",
   "execution_count": null,
   "metadata": {},
   "outputs": [],
   "source": []
  }
 ]
}