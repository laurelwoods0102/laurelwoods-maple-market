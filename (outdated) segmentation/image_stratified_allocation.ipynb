{
 "metadata": {
  "language_info": {
   "codemirror_mode": {
    "name": "ipython",
    "version": 3
   },
   "file_extension": ".py",
   "mimetype": "text/x-python",
   "name": "python",
   "nbconvert_exporter": "python",
   "pygments_lexer": "ipython3",
   "version": "3.7.6-final"
  },
  "orig_nbformat": 2,
  "kernelspec": {
   "name": "Python 3.7.6 64-bit ('base': conda)",
   "display_name": "Python 3.7.6 64-bit ('base': conda)",
   "metadata": {
    "interpreter": {
     "hash": "b3ba2566441a7c06988d0923437866b63cedc61552a5af99d1f4fb67d367b25f"
    }
   }
  }
 },
 "nbformat": 4,
 "nbformat_minor": 2,
 "cells": [
  {
   "cell_type": "code",
   "execution_count": 1,
   "metadata": {},
   "outputs": [],
   "source": [
    "import numpy as np\n",
    "import pandas as pd\n",
    "import matplotlib\n",
    "import matplotlib.pyplot as plt\n",
    "import os\n",
    "import shutil\n",
    "import json\n"
   ]
  },
  {
   "cell_type": "code",
   "execution_count": 2,
   "metadata": {},
   "outputs": [],
   "source": [
    "dataset_name = \"dataset_3\""
   ]
  },
  {
   "cell_type": "code",
   "execution_count": 3,
   "metadata": {},
   "outputs": [
    {
     "output_type": "execute_result",
     "data": {
      "text/plain": "           price option additional  star_force  upgrade time_remained\n0       99999999      -          -           0        0      22시간 30분\n1       99999999      -          -           0        0      22시간 57분\n2      109999998      -          -           0        0      20시간 50분\n3      109999999      -          -           0        0      13시간 52분\n4      110000000      -          -           0        0      05시간 29분\n..           ...    ...        ...         ...      ...           ...\n179  13999999999     레전         레전           2        9      23시간 28분\n180  14999999999     레전         유닉           2        9      14시간 50분\n181  19999999999     레전         레전           2        9      04시간 51분\n182  20299999999     레전         유닉           2        9      05시간 40분\n183  22222222222     레전         레전           2        9      12시간 14분\n\n[184 rows x 6 columns]",
      "text/html": "<div>\n<style scoped>\n    .dataframe tbody tr th:only-of-type {\n        vertical-align: middle;\n    }\n\n    .dataframe tbody tr th {\n        vertical-align: top;\n    }\n\n    .dataframe thead th {\n        text-align: right;\n    }\n</style>\n<table border=\"1\" class=\"dataframe\">\n  <thead>\n    <tr style=\"text-align: right;\">\n      <th></th>\n      <th>price</th>\n      <th>option</th>\n      <th>additional</th>\n      <th>star_force</th>\n      <th>upgrade</th>\n      <th>time_remained</th>\n    </tr>\n  </thead>\n  <tbody>\n    <tr>\n      <th>0</th>\n      <td>99999999</td>\n      <td>-</td>\n      <td>-</td>\n      <td>0</td>\n      <td>0</td>\n      <td>22시간 30분</td>\n    </tr>\n    <tr>\n      <th>1</th>\n      <td>99999999</td>\n      <td>-</td>\n      <td>-</td>\n      <td>0</td>\n      <td>0</td>\n      <td>22시간 57분</td>\n    </tr>\n    <tr>\n      <th>2</th>\n      <td>109999998</td>\n      <td>-</td>\n      <td>-</td>\n      <td>0</td>\n      <td>0</td>\n      <td>20시간 50분</td>\n    </tr>\n    <tr>\n      <th>3</th>\n      <td>109999999</td>\n      <td>-</td>\n      <td>-</td>\n      <td>0</td>\n      <td>0</td>\n      <td>13시간 52분</td>\n    </tr>\n    <tr>\n      <th>4</th>\n      <td>110000000</td>\n      <td>-</td>\n      <td>-</td>\n      <td>0</td>\n      <td>0</td>\n      <td>05시간 29분</td>\n    </tr>\n    <tr>\n      <th>...</th>\n      <td>...</td>\n      <td>...</td>\n      <td>...</td>\n      <td>...</td>\n      <td>...</td>\n      <td>...</td>\n    </tr>\n    <tr>\n      <th>179</th>\n      <td>13999999999</td>\n      <td>레전</td>\n      <td>레전</td>\n      <td>2</td>\n      <td>9</td>\n      <td>23시간 28분</td>\n    </tr>\n    <tr>\n      <th>180</th>\n      <td>14999999999</td>\n      <td>레전</td>\n      <td>유닉</td>\n      <td>2</td>\n      <td>9</td>\n      <td>14시간 50분</td>\n    </tr>\n    <tr>\n      <th>181</th>\n      <td>19999999999</td>\n      <td>레전</td>\n      <td>레전</td>\n      <td>2</td>\n      <td>9</td>\n      <td>04시간 51분</td>\n    </tr>\n    <tr>\n      <th>182</th>\n      <td>20299999999</td>\n      <td>레전</td>\n      <td>유닉</td>\n      <td>2</td>\n      <td>9</td>\n      <td>05시간 40분</td>\n    </tr>\n    <tr>\n      <th>183</th>\n      <td>22222222222</td>\n      <td>레전</td>\n      <td>레전</td>\n      <td>2</td>\n      <td>9</td>\n      <td>12시간 14분</td>\n    </tr>\n  </tbody>\n</table>\n<p>184 rows × 6 columns</p>\n</div>"
     },
     "metadata": {},
     "execution_count": 3
    }
   ],
   "source": [
    "dataset = pd.read_csv(\"../model/data/{}/{}_current.csv\".format(dataset_name, dataset_name))\n",
    "dataset"
   ]
  },
  {
   "cell_type": "code",
   "execution_count": 4,
   "metadata": {},
   "outputs": [
    {
     "output_type": "execute_result",
     "data": {
      "text/plain": "Int64Index([ 18,  19,  20,  21,  22,  23,  24,  25,  26,  27,  28,  33,  35,\n             36,  40,  41,  42,  43,  50,  51,  56,  65,  88,  98, 101],\n           dtype=&#39;int64&#39;)"
     },
     "metadata": {},
     "execution_count": 4
    }
   ],
   "source": [
    "index_0 = dataset[(dataset[\"option\"] == \"-\") & (dataset[\"additional\"] == \"-\")].index[-25:]\n",
    "index_0"
   ]
  },
  {
   "cell_type": "code",
   "execution_count": 5,
   "metadata": {},
   "outputs": [
    {
     "output_type": "execute_result",
     "data": {
      "text/plain": "Int64Index([159, 160, 161, 162, 163, 164, 165, 166, 167, 168, 169, 170, 171,\n            172, 173, 174, 175, 176, 177, 178, 179, 180, 181, 182, 183],\n           dtype=&#39;int64&#39;)"
     },
     "metadata": {},
     "execution_count": 5
    }
   ],
   "source": [
    "index_1 = dataset[(dataset[\"option\"] != \"-\") & (dataset[\"additional\"] != \"-\")].index[-25:]\n",
    "index_1"
   ]
  },
  {
   "cell_type": "code",
   "execution_count": 6,
   "metadata": {},
   "outputs": [
    {
     "output_type": "execute_result",
     "data": {
      "text/plain": "Int64Index([159, 160, 161, 162, 163, 164, 165, 166, 167, 168, 169, 170, 171,\n            172, 173, 174, 175, 176, 177, 178, 179, 180, 181, 182, 183],\n           dtype=&#39;int64&#39;)"
     },
     "metadata": {},
     "execution_count": 6
    }
   ],
   "source": [
    "index_2 = dataset[(dataset[\"additional\"] != \"-\")].index[-25:]\n",
    "index_2"
   ]
  },
  {
   "cell_type": "code",
   "execution_count": 7,
   "metadata": {},
   "outputs": [
    {
     "output_type": "execute_result",
     "data": {
      "text/plain": "array([ 18,  19,  20,  21,  22,  23,  24,  25,  26,  27,  28,  33,  35,\n        36,  40,  41,  42,  43,  50,  51,  56,  65,  88,  98, 101, 159,\n       160, 161, 162, 163, 164, 165, 166, 167, 168, 169, 170, 171, 172,\n       173, 174, 175, 176, 177, 178, 179, 180, 181, 182, 183, 159, 160,\n       161, 162, 163, 164, 165, 166, 167, 168, 169, 170, 171, 172, 173,\n       174, 175, 176, 177, 178, 179, 180, 181, 182, 183], dtype=int64)"
     },
     "metadata": {},
     "execution_count": 7
    }
   ],
   "source": [
    "index = np.r_[index_0, index_1, index_2]\n",
    "index"
   ]
  },
  {
   "cell_type": "code",
   "execution_count": 159,
   "metadata": {},
   "outputs": [],
   "source": [
    "os.mkdir(\"../model/data/{}/labeled_images\".format(dataset_name))"
   ]
  },
  {
   "cell_type": "code",
   "execution_count": 160,
   "metadata": {
    "tags": []
   },
   "outputs": [],
   "source": [
    "for i in index:\n",
    "    shutil.copyfile(\"../model/data/{}/images/{}.png\".format(dataset_name, i), \"../model/data/{}/labeled_images/{}.png\".format(dataset_name, i))"
   ]
  },
  {
   "cell_type": "code",
   "execution_count": null,
   "metadata": {},
   "outputs": [],
   "source": []
  }
 ]
}