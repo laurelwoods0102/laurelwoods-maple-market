{
 "metadata": {
  "language_info": {
   "codemirror_mode": {
    "name": "ipython",
    "version": 3
   },
   "file_extension": ".py",
   "mimetype": "text/x-python",
   "name": "python",
   "nbconvert_exporter": "python",
   "pygments_lexer": "ipython3",
   "version": "3.7.6-final"
  },
  "orig_nbformat": 2,
  "kernelspec": {
   "name": "Python 3.7.6 64-bit ('base': conda)",
   "display_name": "Python 3.7.6 64-bit ('base': conda)",
   "metadata": {
    "interpreter": {
     "hash": "b3ba2566441a7c06988d0923437866b63cedc61552a5af99d1f4fb67d367b25f"
    }
   }
  }
 },
 "nbformat": 4,
 "nbformat_minor": 2,
 "cells": [
  {
   "source": [
    "# HOWTO\n",
    "\n",
    "1. Add \"dataset\" folder at \"path\" directory  \n",
    "2. Put every images and their labels created by LabelMe to \"dataset\" folder  \n",
    "3. Run this scripts"
   ],
   "cell_type": "markdown",
   "metadata": {}
  },
  {
   "source": [
    "## NOTE\n",
    "\n",
    "Note that for Tensorflow efficientdet create_coco_tfrecord, need to copy only images to efficientdet/dataset/{dataset_name} and copy their annotations"
   ],
   "cell_type": "markdown",
   "metadata": {}
  },
  {
   "cell_type": "code",
   "execution_count": 7,
   "metadata": {},
   "outputs": [],
   "source": [
    "import labelme2coco"
   ]
  },
  {
   "cell_type": "code",
   "execution_count": 18,
   "metadata": {},
   "outputs": [],
   "source": [
    "path = \"D:\\Laurelwoods_IDE\\laurelwoods-maple-market\\dataset_preprocessing\\segmentation\\data\""
   ]
  },
  {
   "cell_type": "code",
   "execution_count": 19,
   "metadata": {},
   "outputs": [],
   "source": [
    "labelme2coco.convert(path + \"\\dataset\", path + r\"\\annotations.json\")"
   ]
  },
  {
   "cell_type": "code",
   "execution_count": null,
   "metadata": {},
   "outputs": [],
   "source": []
  }
 ]
}