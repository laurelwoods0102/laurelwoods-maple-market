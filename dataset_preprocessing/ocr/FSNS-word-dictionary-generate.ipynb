{
 "metadata": {
  "language_info": {
   "codemirror_mode": {
    "name": "ipython",
    "version": 3
   },
   "file_extension": ".py",
   "mimetype": "text/x-python",
   "name": "python",
   "nbconvert_exporter": "python",
   "pygments_lexer": "ipython3",
   "version": "3.7.6-final"
  },
  "orig_nbformat": 2,
  "kernelspec": {
   "name": "Python 3.7.6 64-bit ('base': conda)",
   "display_name": "Python 3.7.6 64-bit ('base': conda)",
   "metadata": {
    "interpreter": {
     "hash": "b3ba2566441a7c06988d0923437866b63cedc61552a5af99d1f4fb67d367b25f"
    }
   }
  }
 },
 "nbformat": 4,
 "nbformat_minor": 2,
 "cells": [
  {
   "cell_type": "code",
   "execution_count": 1,
   "metadata": {},
   "outputs": [],
   "source": [
    "import glob"
   ]
  },
  {
   "cell_type": "code",
   "execution_count": 5,
   "metadata": {},
   "outputs": [],
   "source": [
    "addrs_labels = []\n",
    "for i in range(1, 3):\n",
    "    addrs_labels.extend(glob.glob('data/dataset_1/labels/*.txt'))\n",
    "    addrs_labels.extend(glob.glob('data/dataset_2/labels/*.txt'))\n",
    "    addrs_labels.extend(glob.glob('data/dataset_3/labels/*.txt'))"
   ]
  },
  {
   "cell_type": "code",
   "execution_count": 6,
   "metadata": {},
   "outputs": [],
   "source": [
    "word_bag = set()\n",
    "for addrs_label in addrs_labels:\n",
    "    text = open(addrs_label, encoding=\"utf-8-sig\").read()\n",
    "    for t in text:\n",
    "        word_bag.add(t)"
   ]
  },
  {
   "cell_type": "code",
   "execution_count": 7,
   "metadata": {},
   "outputs": [
    {
     "output_type": "execute_result",
     "data": {
      "text/plain": [
       "{'\\n',\n",
       " ' ',\n",
       " '%',\n",
       " '(',\n",
       " ')',\n",
       " '+',\n",
       " '-',\n",
       " '0',\n",
       " '1',\n",
       " '2',\n",
       " '3',\n",
       " '4',\n",
       " '5',\n",
       " '6',\n",
       " '7',\n",
       " '8',\n",
       " '9',\n",
       " ':',\n",
       " 'D',\n",
       " 'E',\n",
       " 'H',\n",
       " 'I',\n",
       " 'K',\n",
       " 'L',\n",
       " 'M',\n",
       " 'N',\n",
       " 'P',\n",
       " 'R',\n",
       " 'S',\n",
       " 'T',\n",
       " 'U',\n",
       " 'X',\n",
       " '가',\n",
       " '감',\n",
       " '검',\n",
       " '격',\n",
       " '공',\n",
       " '구',\n",
       " '그',\n",
       " '금',\n",
       " '기',\n",
       " '눈',\n",
       " '능',\n",
       " '대',\n",
       " '도',\n",
       " '동',\n",
       " '두',\n",
       " '드',\n",
       " '레',\n",
       " '력',\n",
       " '련',\n",
       " '류',\n",
       " '름',\n",
       " '마',\n",
       " '망',\n",
       " '매',\n",
       " '몬',\n",
       " '무',\n",
       " '미',\n",
       " '방',\n",
       " '벨',\n",
       " '보',\n",
       " '복',\n",
       " '분',\n",
       " '블',\n",
       " '비',\n",
       " '빠',\n",
       " '사',\n",
       " '소',\n",
       " '속',\n",
       " '손',\n",
       " '수',\n",
       " '스',\n",
       " '시',\n",
       " '식',\n",
       " '어',\n",
       " '업',\n",
       " '올',\n",
       " '용',\n",
       " '우',\n",
       " '위',\n",
       " '이',\n",
       " '장',\n",
       " '적',\n",
       " '점',\n",
       " '제',\n",
       " '지',\n",
       " '착',\n",
       " '최',\n",
       " '치',\n",
       " '터',\n",
       " '텟',\n",
       " '통',\n",
       " '프',\n",
       " '한',\n",
       " '황',\n",
       " '횟'}"
      ]
     },
     "metadata": {},
     "execution_count": 7
    }
   ],
   "source": [
    "word_bag"
   ]
  },
  {
   "cell_type": "code",
   "execution_count": 8,
   "metadata": {},
   "outputs": [
    {
     "output_type": "execute_result",
     "data": {
      "text/plain": [
       "97"
      ]
     },
     "metadata": {},
     "execution_count": 8
    }
   ],
   "source": [
    "len(word_bag)"
   ]
  },
  {
   "cell_type": "code",
   "execution_count": 10,
   "metadata": {},
   "outputs": [],
   "source": [
    "with open(\"word_bag_3.txt\", \"w\", encoding=\"utf-8\") as d:\n",
    "    for i, data in enumerate(sorted(list(word_bag))[2:]):   # Skip oob> / newline / whitespace and add later\n",
    "        d.write(str(i+3))\n",
    "        d.write(\"\\t\")\n",
    "        d.write(data)\n",
    "        d.write(\"\\n\")"
   ]
  },
  {
   "cell_type": "code",
   "execution_count": null,
   "metadata": {},
   "outputs": [],
   "source": []
  }
 ]
}