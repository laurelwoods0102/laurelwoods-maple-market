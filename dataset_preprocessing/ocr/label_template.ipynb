{
 "metadata": {
  "language_info": {
   "codemirror_mode": {
    "name": "ipython",
    "version": 3
   },
   "file_extension": ".py",
   "mimetype": "text/x-python",
   "name": "python",
   "nbconvert_exporter": "python",
   "pygments_lexer": "ipython3",
   "version": "3.7.6-final"
  },
  "orig_nbformat": 2,
  "kernelspec": {
   "name": "Python 3.7.6 64-bit ('base': conda)",
   "display_name": "Python 3.7.6 64-bit ('base': conda)",
   "metadata": {
    "interpreter": {
     "hash": "b3ba2566441a7c06988d0923437866b63cedc61552a5af99d1f4fb67d367b25f"
    }
   }
  }
 },
 "nbformat": 4,
 "nbformat_minor": 2,
 "cells": [
  {
   "cell_type": "code",
   "execution_count": 1,
   "metadata": {},
   "outputs": [],
   "source": [
    "import os\n",
    "import glob"
   ]
  },
  {
   "cell_type": "code",
   "execution_count": 6,
   "metadata": {},
   "outputs": [
    {
     "output_type": "execute_result",
     "data": {
      "text/plain": "[&#39;101&#39;,\n &#39;159&#39;,\n &#39;160&#39;,\n &#39;161&#39;,\n &#39;162&#39;,\n &#39;163&#39;,\n &#39;164&#39;,\n &#39;165&#39;,\n &#39;166&#39;,\n &#39;167&#39;,\n &#39;168&#39;,\n &#39;169&#39;,\n &#39;170&#39;,\n &#39;171&#39;,\n &#39;172&#39;,\n &#39;173&#39;,\n &#39;174&#39;,\n &#39;175&#39;,\n &#39;176&#39;,\n &#39;177&#39;,\n &#39;178&#39;,\n &#39;179&#39;,\n &#39;18&#39;,\n &#39;180&#39;,\n &#39;181&#39;,\n &#39;182&#39;,\n &#39;183&#39;,\n &#39;19&#39;,\n &#39;20&#39;,\n &#39;21&#39;,\n &#39;22&#39;,\n &#39;23&#39;,\n &#39;24&#39;,\n &#39;25&#39;,\n &#39;26&#39;,\n &#39;27&#39;,\n &#39;28&#39;,\n &#39;33&#39;,\n &#39;35&#39;,\n &#39;36&#39;,\n &#39;40&#39;,\n &#39;41&#39;,\n &#39;42&#39;,\n &#39;43&#39;,\n &#39;50&#39;,\n &#39;51&#39;,\n &#39;56&#39;,\n &#39;65&#39;,\n &#39;88&#39;,\n &#39;98&#39;]"
     },
     "metadata": {},
     "execution_count": 6
    }
   ],
   "source": [
    "names = [i.replace(\".png\", \"\") for i in os.listdir(\"data/dataset_3/images\")]\n",
    "names"
   ]
  },
  {
   "cell_type": "code",
   "execution_count": 7,
   "metadata": {},
   "outputs": [],
   "source": [
    "template = \"무기분류: 두손검 (두손무기)\\n공격속도: 보통\\nSTR : + (60 +)\\nDEX : + (60 +)\\nINT : + (0 +)\\nLUK : + (0 +)\\n공격력 : + (205 +)\\n방어력 : + (0 +)\\n보스 몬스터 공격시 대미지 : +30%\\n몬스터 방어력 무시 : +10%\\n업그레이드 가능 횟수: 8 (복구 가능 횟수: 0)\\n가위 사용 가능 횟수: 10\"\n"
   ]
  },
  {
   "cell_type": "code",
   "execution_count": 8,
   "metadata": {},
   "outputs": [],
   "source": [
    "for i in names:\n",
    "    with open(\"data/dataset_3/labels/{}.txt\".format(i), 'w', encoding=\"utf-8\") as t:\n",
    "        t.write(template)"
   ]
  }
 ]
}