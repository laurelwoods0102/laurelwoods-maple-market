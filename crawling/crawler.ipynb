{
 "metadata": {
  "language_info": {
   "codemirror_mode": {
    "name": "ipython",
    "version": 3
   },
   "file_extension": ".py",
   "mimetype": "text/x-python",
   "name": "python",
   "nbconvert_exporter": "python",
   "pygments_lexer": "ipython3",
   "version": "3.7.6-final"
  },
  "orig_nbformat": 2,
  "kernelspec": {
   "name": "Python 3.7.6 64-bit ('base': conda)",
   "display_name": "Python 3.7.6 64-bit ('base': conda)",
   "metadata": {
    "interpreter": {
     "hash": "b3ba2566441a7c06988d0923437866b63cedc61552a5af99d1f4fb67d367b25f"
    }
   }
  }
 },
 "nbformat": 4,
 "nbformat_minor": 2,
 "cells": [
  {
   "cell_type": "code",
   "execution_count": 1,
   "metadata": {},
   "outputs": [],
   "source": [
    "import numpy as np\n",
    "import pandas as pd\n",
    "import requests\n",
    "from bs4 import BeautifulSoup\n",
    "from matplotlib import pyplot as plt\n",
    "from PIL import Image\n",
    "import io\n",
    "import datetime\n",
    "import json\n",
    "import re\n"
   ]
  },
  {
   "cell_type": "code",
   "execution_count": 2,
   "metadata": {},
   "outputs": [],
   "source": [
    "dataset_name = \"dataset_3\""
   ]
  },
  {
   "cell_type": "code",
   "execution_count": 3,
   "metadata": {},
   "outputs": [
    {
     "output_type": "execute_result",
     "data": {
      "text/plain": "&#39;20201002-143122&#39;"
     },
     "metadata": {},
     "execution_count": 3
    }
   ],
   "source": [
    "timestamp = datetime.datetime.now().strftime(\"%Y%m%d-%H%M%S\")\n",
    "timestamp"
   ]
  },
  {
   "cell_type": "code",
   "execution_count": 836,
   "metadata": {},
   "outputs": [],
   "source": [
    "dataset_dir = \"../model/data/{}\".format(dataset_name)\n",
    "\n",
    "os.makedirs(dataset_dir)\n",
    "os.makedirs(dataset_dir + \"/images\")"
   ]
  },
  {
   "cell_type": "code",
   "execution_count": 837,
   "metadata": {},
   "outputs": [],
   "source": [
    "dataset_info = {\n",
    "    \"item_name\": '앱솔랩스 브로드세이버',\n",
    "    \"server\": '크로아',\n",
    "    \"timestamp\": timestamp\n",
    "}\n",
    "with open(\"{}/{}_info.json\".format(dataset_dir, dataset_name), \"w\", encoding='utf-16') as j:\n",
    "    json.dump(dataset_info, j, ensure_ascii=False, indent=4)"
   ]
  },
  {
   "cell_type": "code",
   "execution_count": 838,
   "metadata": {},
   "outputs": [],
   "source": [
    "# additional_option == 추옵 (무기류)\n",
    "is_additional_option = True"
   ]
  },
  {
   "cell_type": "code",
   "execution_count": 839,
   "metadata": {},
   "outputs": [
    {
     "output_type": "execute_result",
     "data": {
      "text/plain": "&#39;https://maple.market/items/앱솔랩스브로드세이버/크로아&#39;"
     },
     "metadata": {},
     "execution_count": 839
    }
   ],
   "source": [
    "url = \"https://maple.market/items/{}/{}\".format(dataset_info[\"item_name\"].replace(\" \", \"\"), dataset_info[\"server\"])\n",
    "url"
   ]
  },
  {
   "cell_type": "code",
   "execution_count": 840,
   "metadata": {},
   "outputs": [],
   "source": [
    "req = requests.get(url)\n",
    "html = req.text"
   ]
  },
  {
   "cell_type": "code",
   "execution_count": 841,
   "metadata": {},
   "outputs": [],
   "source": [
    "soup = BeautifulSoup(html, 'lxml')\n",
    "table = soup.find('table')\n",
    "table_head = table.select('thead')[0]\n",
    "table_body = table.select('tbody')[0]\n",
    "items = table_body.find_all(\"tr\")"
   ]
  },
  {
   "cell_type": "code",
   "execution_count": 842,
   "metadata": {
    "tags": []
   },
   "outputs": [
    {
     "output_type": "execute_result",
     "data": {
      "text/plain": "[&#39;price&#39;, &#39;option&#39;, &#39;additional&#39;, &#39;star_force&#39;, &#39;upgrade&#39;, &#39;time_remained&#39;]"
     },
     "metadata": {},
     "execution_count": 842
    }
   ],
   "source": [
    "columns = [\"price\", \"option\", \"additional\", \"star_force\", \"upgrade\", \"time_remained\"]\n",
    "columns"
   ]
  },
  {
   "cell_type": "code",
   "execution_count": 843,
   "metadata": {},
   "outputs": [],
   "source": [
    "def item_parser(item, is_additional_option=False):      \n",
    "    # additional_option == 추옵 (무기류)\n",
    "    if is_additional_option:\n",
    "        mapping = [1, 3, 4, 5, 7]\n",
    "    else:\n",
    "        mapping = [1, 2, 3, 4, 6]\n",
    "\n",
    "    data = []\n",
    "    item_contents = item.find_all(\"td\")\n",
    "    \n",
    "    #num = int(item_contents[0].text.strip().replace('\\n',''))\n",
    "    #item_name = item_contents[1].select(\"span\")[0].text.strip()\n",
    "\n",
    "    # 1, 2\n",
    "    item_name_span = item_contents[mapping[0]].select(\"span\")[0]\n",
    "    star_force = 0\n",
    "    upgrade = 0\n",
    "    item_name_raw = item_name_span.text.strip()\n",
    "\n",
    "    if item_name_span.find(\"div\") != None:\n",
    "        star_force = int(item_name_raw[-1])\n",
    "        item_name_raw = item_name_raw[:-1].strip()\n",
    "\n",
    "    m = re.compile(\"\\+(\\d*)\")\n",
    "\n",
    "    if m.search(item_name_raw) != None:\n",
    "        upgrade = int(m.search(item_name_raw).group(1))\n",
    "\n",
    "    # 3\n",
    "    option = item_contents[mapping[1]].text.strip()\n",
    "\n",
    "    # 4\n",
    "    additional = item_contents[mapping[2]].text.strip()\n",
    "\n",
    "    # 5 \n",
    "    price = int(item_contents[mapping[3]].text.strip().split(\"\\n\")[0].replace(',',''))\n",
    "\n",
    "    # 6\n",
    "    time_remained = item_contents[mapping[4]].text.strip()\n",
    "\n",
    "    data.append(price)\n",
    "    data.append(option)\n",
    "    data.append(additional)\n",
    "    data.append(star_force)\n",
    "    data.append(upgrade)\n",
    "    data.append(time_remained)\n",
    "\n",
    "    return data"
   ]
  },
  {
   "cell_type": "code",
   "execution_count": 844,
   "metadata": {},
   "outputs": [],
   "source": [
    "def item_image_parser(item):\n",
    "    item_image_url = item.find_all(\"td\")[1].select(\"div\")[0].attrs[\"data-tooltip-image-url\"]\n",
    "    item_image_content = requests.get(item_image_url)\n",
    "    assert(item_image_content.status_code == 200)\n",
    "\n",
    "    stream = io.BytesIO(item_image_content.content)\n",
    "    item_image = Image.open(stream)\n",
    "\n",
    "    return item_image"
   ]
  },
  {
   "cell_type": "code",
   "execution_count": 845,
   "metadata": {
    "tags": []
   },
   "outputs": [
    {
     "output_type": "stream",
     "name": "stdout",
     "text": "0\n1\n2\n3\n4\n5\n6\n7\n8\n9\n10\n11\n12\n13\n14\n15\n16\n17\n18\n19\n20\n21\n22\n23\n24\n25\n26\n27\n28\n29\n30\n31\n32\n33\n34\n35\n36\n37\n38\n39\n40\n41\n42\n43\n44\n45\n46\n47\n48\n49\n50\n51\n52\n53\n54\n55\n56\n57\n58\n59\n60\n61\n62\n63\n64\n65\n66\n67\n68\n69\n70\n71\n72\n73\n74\n75\n76\n77\n78\n79\n80\n81\n82\n83\n84\n85\n86\n87\n88\n89\n90\n91\n92\n93\n94\n95\n96\n97\n98\n99\n100\n101\n102\n103\n104\n105\n106\n107\n108\n109\n110\n111\n112\n113\n114\n115\n116\n117\n118\n119\n120\n121\n122\n123\n124\n125\n126\n127\n128\n129\n130\n131\n132\n133\n134\n135\n136\n137\n138\n139\n140\n141\n142\n143\n144\n145\n146\n147\n148\n149\n150\n151\n152\n153\n154\n155\n156\n157\n158\n159\n160\n161\n162\n163\n164\n165\n166\n167\n168\n169\n170\n171\n172\n173\n174\n175\n176\n177\n178\n179\n180\n181\n182\n183\n"
    }
   ],
   "source": [
    "current_data = []\n",
    "current_images = []\n",
    "\n",
    "for i, item in enumerate(items):\n",
    "    d = item_parser(item, is_additional_option=is_additional_option)\n",
    "    current_data.append(d)\n",
    "    img = item_image_parser(item)\n",
    "    current_images.append(img)\n",
    "    print(i)\n",
    "\n",
    "assert(len(current_data) == len(current_images))"
   ]
  },
  {
   "cell_type": "code",
   "execution_count": 846,
   "metadata": {},
   "outputs": [
    {
     "output_type": "execute_result",
     "data": {
      "text/plain": "           price option additional  star_force  upgrade time_remained\n0       99999999      -          -           0        0      22시간 30분\n1       99999999      -          -           0        0      22시간 57분\n2      109999998      -          -           0        0      20시간 50분\n3      109999999      -          -           0        0      13시간 52분\n4      110000000      -          -           0        0      05시간 29분\n..           ...    ...        ...         ...      ...           ...\n179  13999999999     레전         레전           2        9      23시간 28분\n180  14999999999     레전         유닉           2        9      14시간 50분\n181  19999999999     레전         레전           2        9      04시간 51분\n182  20299999999     레전         유닉           2        9      05시간 40분\n183  22222222222     레전         레전           2        9      12시간 14분\n\n[184 rows x 6 columns]",
      "text/html": "<div>\n<style scoped>\n    .dataframe tbody tr th:only-of-type {\n        vertical-align: middle;\n    }\n\n    .dataframe tbody tr th {\n        vertical-align: top;\n    }\n\n    .dataframe thead th {\n        text-align: right;\n    }\n</style>\n<table border=\"1\" class=\"dataframe\">\n  <thead>\n    <tr style=\"text-align: right;\">\n      <th></th>\n      <th>price</th>\n      <th>option</th>\n      <th>additional</th>\n      <th>star_force</th>\n      <th>upgrade</th>\n      <th>time_remained</th>\n    </tr>\n  </thead>\n  <tbody>\n    <tr>\n      <th>0</th>\n      <td>99999999</td>\n      <td>-</td>\n      <td>-</td>\n      <td>0</td>\n      <td>0</td>\n      <td>22시간 30분</td>\n    </tr>\n    <tr>\n      <th>1</th>\n      <td>99999999</td>\n      <td>-</td>\n      <td>-</td>\n      <td>0</td>\n      <td>0</td>\n      <td>22시간 57분</td>\n    </tr>\n    <tr>\n      <th>2</th>\n      <td>109999998</td>\n      <td>-</td>\n      <td>-</td>\n      <td>0</td>\n      <td>0</td>\n      <td>20시간 50분</td>\n    </tr>\n    <tr>\n      <th>3</th>\n      <td>109999999</td>\n      <td>-</td>\n      <td>-</td>\n      <td>0</td>\n      <td>0</td>\n      <td>13시간 52분</td>\n    </tr>\n    <tr>\n      <th>4</th>\n      <td>110000000</td>\n      <td>-</td>\n      <td>-</td>\n      <td>0</td>\n      <td>0</td>\n      <td>05시간 29분</td>\n    </tr>\n    <tr>\n      <th>...</th>\n      <td>...</td>\n      <td>...</td>\n      <td>...</td>\n      <td>...</td>\n      <td>...</td>\n      <td>...</td>\n    </tr>\n    <tr>\n      <th>179</th>\n      <td>13999999999</td>\n      <td>레전</td>\n      <td>레전</td>\n      <td>2</td>\n      <td>9</td>\n      <td>23시간 28분</td>\n    </tr>\n    <tr>\n      <th>180</th>\n      <td>14999999999</td>\n      <td>레전</td>\n      <td>유닉</td>\n      <td>2</td>\n      <td>9</td>\n      <td>14시간 50분</td>\n    </tr>\n    <tr>\n      <th>181</th>\n      <td>19999999999</td>\n      <td>레전</td>\n      <td>레전</td>\n      <td>2</td>\n      <td>9</td>\n      <td>04시간 51분</td>\n    </tr>\n    <tr>\n      <th>182</th>\n      <td>20299999999</td>\n      <td>레전</td>\n      <td>유닉</td>\n      <td>2</td>\n      <td>9</td>\n      <td>05시간 40분</td>\n    </tr>\n    <tr>\n      <th>183</th>\n      <td>22222222222</td>\n      <td>레전</td>\n      <td>레전</td>\n      <td>2</td>\n      <td>9</td>\n      <td>12시간 14분</td>\n    </tr>\n  </tbody>\n</table>\n<p>184 rows × 6 columns</p>\n</div>"
     },
     "metadata": {},
     "execution_count": 846
    }
   ],
   "source": [
    "current_df = pd.DataFrame(current_data, columns=columns, index=None)\n",
    "current_df"
   ]
  },
  {
   "cell_type": "code",
   "execution_count": 847,
   "metadata": {},
   "outputs": [],
   "source": [
    "current_df.to_csv(\"{}/{}_current.csv\".format(dataset_dir, dataset_name), index=None, encoding='utf-8')"
   ]
  },
  {
   "cell_type": "code",
   "execution_count": 848,
   "metadata": {},
   "outputs": [],
   "source": [
    "for i, img in enumerate(current_images):\n",
    "    img.save(\"{}/images/{}.png\".format(dataset_dir, i))"
   ]
  },
  {
   "cell_type": "code",
   "execution_count": null,
   "metadata": {},
   "outputs": [],
   "source": []
  }
 ]
}